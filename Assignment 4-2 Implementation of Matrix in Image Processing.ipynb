{
 "cells": [
  {
   "cell_type": "markdown",
   "id": "undefined-trailer",
   "metadata": {},
   "source": [
    "# Assignment 4-2 Image Processing"
   ]
  },
  {
   "cell_type": "code",
   "execution_count": 1,
   "id": "superb-report",
   "metadata": {},
   "outputs": [],
   "source": [
    "import cv2 # workswith images \n",
    "from matplotlib import pyplot # for visualisation\n",
    "\n",
    "import numpy as np"
   ]
  },
  {
   "cell_type": "code",
   "execution_count": 2,
   "id": "square-digest",
   "metadata": {
    "scrolled": false
   },
   "outputs": [],
   "source": [
    "# load your image, 0 is for greyscale mode\n",
    "img = cv2.imread('Images/Mario1.png')\n",
    "#img = cv2.cvtColor(img, cv2.COLOR_BGR2RGB)\n",
    "#img = cv2.cvtColor(img, cv2.COLOR_BGR2RGB)"
   ]
  },
  {
   "cell_type": "code",
   "execution_count": 3,
   "id": "informational-democracy",
   "metadata": {},
   "outputs": [],
   "source": [
    "# visualisation function with forced grayscale\n",
    "def myimage(image):\n",
    "    # image view\n",
    "    #pyplot.imshow(image)\n",
    "    pyplot.imshow(img, cmap=\"gray\", vmin=0, vmax=255)# pixel view with grayscale\n",
    "    print('image size: ', image.shape)\n",
    "    print('pixel matrix:\\n', image)"
   ]
  },
  {
   "cell_type": "code",
   "execution_count": 4,
   "id": "indian-moldova",
   "metadata": {},
   "outputs": [],
   "source": [
    "# visualisation function with color\n",
    "def myimagecolor(image):\n",
    "    # image view\n",
    "    pyplot.imshow(image)\n",
    "    #pyplot.imshow(img, cmap=\"gray\", vmin=0, vmax=255)# pixel view with grayscale\n",
    "    print('image size: ', image.shape)\n",
    "    print('pixel matrix:\\n', image)"
   ]
  },
  {
   "cell_type": "code",
   "execution_count": 5,
   "id": "tamil-reception",
   "metadata": {},
   "outputs": [
    {
     "name": "stdout",
     "output_type": "stream",
     "text": [
      "image size:  (100, 100, 3)\n",
      "pixel matrix:\n",
      " [[[252 148  92]\n",
      "  [252 148  92]\n",
      "  [252 148  92]\n",
      "  ...\n",
      "  [252 148  92]\n",
      "  [252 148  92]\n",
      "  [252 148  92]]\n",
      "\n",
      " [[252 148  92]\n",
      "  [252 148  92]\n",
      "  [252 148  92]\n",
      "  ...\n",
      "  [252 148  92]\n",
      "  [252 148  92]\n",
      "  [252 148  92]]\n",
      "\n",
      " [[252 148  92]\n",
      "  [252 148  92]\n",
      "  [252 148  92]\n",
      "  ...\n",
      "  [252 148  92]\n",
      "  [252 148  92]\n",
      "  [252 148  92]]\n",
      "\n",
      " ...\n",
      "\n",
      " [[ 12  76 200]\n",
      "  [ 12  76 200]\n",
      "  [ 12  76 200]\n",
      "  ...\n",
      "  [ 12  76 200]\n",
      "  [ 12  76 200]\n",
      "  [ 12  76 200]]\n",
      "\n",
      " [[ 12  76 200]\n",
      "  [ 12  76 200]\n",
      "  [ 12  76 200]\n",
      "  ...\n",
      "  [ 12  76 200]\n",
      "  [ 12  76 200]\n",
      "  [ 12  76 200]]\n",
      "\n",
      " [[ 12  76 200]\n",
      "  [ 12  76 200]\n",
      "  [ 12  76 200]\n",
      "  ...\n",
      "  [ 12  76 200]\n",
      "  [ 12  76 200]\n",
      "  [ 12  76 200]]]\n"
     ]
    },
    {
     "data": {
      "image/png": "[encoded data removed]",
      "text/plain": [
       "<Figure size 432x288 with 1 Axes>"
      ]
     },
     "metadata": {
      "needs_background": "light"
     },
     "output_type": "display_data"
    }
   ],
   "source": [
    "# show the original image\n",
    "myimage(img)"
   ]
  },
  {
   "cell_type": "code",
   "execution_count": null,
   "id": "amateur-glenn",
   "metadata": {},
   "outputs": [],
   "source": [
    "# resize the image\n",
    "SIZE = 32\n",
    "img = cv2.resize(img, (SIZE,SIZE))"
   ]
  },
  {
   "cell_type": "code",
   "execution_count": null,
   "id": "healthy-luther",
   "metadata": {},
   "outputs": [],
   "source": [
    "# show the resized image\n",
    "myimage(img)"
   ]
  },
  {
   "cell_type": "markdown",
   "id": "modular-covering",
   "metadata": {},
   "source": [
    "### a)"
   ]
  },
  {
   "cell_type": "code",
   "execution_count": null,
   "id": "hawaiian-broadcast",
   "metadata": {},
   "outputs": [],
   "source": [
    "cv2.randu(img, 0, 255) # Take the image which is at 32 by 32 pixels and randomize the color values\n",
    "# This creates the matrix the assignment asks for"
   ]
  },
  {
   "cell_type": "code",
   "execution_count": null,
   "id": "packed-listing",
   "metadata": {},
   "outputs": [],
   "source": [
    "myimage(img)"
   ]
  },
  {
   "cell_type": "code",
   "execution_count": null,
   "id": "expanded-latin",
   "metadata": {},
   "outputs": [],
   "source": [
    "myimagecolor(img)"
   ]
  },
  {
   "cell_type": "code",
   "execution_count": null,
   "id": "durable-square",
   "metadata": {},
   "outputs": [],
   "source": [
    "kernelHorizontal = np.array([[-1, -1, -1],\n",
    "                           [2, 2, 2],\n",
    "                           [-1, -1, -1]])"
   ]
  },
  {
   "cell_type": "code",
   "execution_count": null,
   "id": "opened-gathering",
   "metadata": {},
   "outputs": [],
   "source": [
    "def convolve2D(image, kernel, padding=0, strides=1):\n",
    "    # Cross Correlation\n",
    "    kernel = np.flipud(np.fliplr(kernel))\n",
    "\n",
    "    # Gather Shapes of Kernel + Image + Padding\n",
    "    xKernShape = kernel.shape[0]\n",
    "    yKernShape = kernel.shape[1]\n",
    "    xImgShape = image.shape[0]\n",
    "    yImgShape = image.shape[1]\n",
    "\n",
    "    # Shape of Output Convolution\n",
    "    xOutput = int(((xImgShape - xKernShape + 2 * padding) / strides) + 1)\n",
    "    yOutput = int(((yImgShape - yKernShape + 2 * padding) / strides) + 1)\n",
    "    output = np.zeros((xOutput, yOutput))\n",
    "\n",
    "    # Apply Equal Padding to All Sides\n",
    "    if padding != 0:\n",
    "        imagePadded = np.zeros((image.shape[0] + padding*2, image.shape[1] + padding*2))\n",
    "        imagePadded[int(padding):int(-1 * padding), int(padding):int(-1 * padding)] = image\n",
    "        print(imagePadded)\n",
    "    else:\n",
    "        imagePadded = image\n",
    "\n",
    "    # Iterate through image\n",
    "    for y in range(image.shape[1]):\n",
    "        # Exit Convolution\n",
    "        if y > image.shape[1] - yKernShape:\n",
    "            break\n",
    "        # Only Convolve if y has gone down by the specified Strides\n",
    "        if y % strides == 0:\n",
    "            for x in range(image.shape[0]):\n",
    "                # Go to next row once kernel is out of bounds\n",
    "                if x > image.shape[0] - xKernShape:\n",
    "                    break\n",
    "                try:\n",
    "                    # Only Convolve if x has moved by the specified Strides\n",
    "                    if x % strides == 0:\n",
    "                        output[x, y] = (kernel * imagePadded[x: x + xKernShape, y: y + yKernShape]).sum()\n",
    "                except:\n",
    "                    break\n",
    "\n",
    "    return output"
   ]
  },
  {
   "cell_type": "code",
   "execution_count": null,
   "id": "forbidden-private",
   "metadata": {},
   "outputs": [],
   "source": []
  },
  {
   "cell_type": "code",
   "execution_count": null,
   "id": "advised-fancy",
   "metadata": {},
   "outputs": [],
   "source": []
  }
 ],
 "metadata": {
  "kernelspec": {
   "display_name": "Python 3",
   "language": "python",
   "name": "python3"
  },
  "language_info": {
   "codemirror_mode": {
    "name": "ipython",
    "version": 3
   },
   "file_extension": ".py",
   "mimetype": "text/x-python",
   "name": "python",
   "nbconvert_exporter": "python",
   "pygments_lexer": "ipython3",
   "version": "3.8.5"
  }
 },
 "nbformat": 4,
 "nbformat_minor": 5
}
